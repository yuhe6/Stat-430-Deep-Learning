{
  "nbformat": 4,
  "nbformat_minor": 0,
  "metadata": {
    "colab": {
      "name": "00b-pytorch-sine-estimation.ipynb",
      "provenance": [],
      "collapsed_sections": [],
      "toc_visible": true,
      "include_colab_link": true
    },
    "kernelspec": {
      "name": "python3",
      "display_name": "Python 3"
    },
    "language_info": {
      "name": "python"
    }
  },
  "cells": [
    {
      "cell_type": "markdown",
      "metadata": {
        "id": "view-in-github",
        "colab_type": "text"
      },
      "source": [
        "<a href=\"https://colab.research.google.com/github/yuhe6/Stat-430-Deep-Learning/blob/main/00b-pytorch-sine-estimation.ipynb\" target=\"_parent\"><img src=\"https://colab.research.google.com/assets/colab-badge.svg\" alt=\"Open In Colab\"/></a>"
      ]
    },
    {
      "cell_type": "markdown",
      "metadata": {
        "id": "tzgfDT_anFh2"
      },
      "source": [
        "# Overview\n",
        "\n",
        "The goal of this notebook is to walkthrough the estimation of a relationship using a neural network written with PyTorch."
      ]
    },
    {
      "cell_type": "markdown",
      "metadata": {
        "id": "EnUp3Hjvn7n1"
      },
      "source": [
        "## Dependencies\n",
        "\n",
        "To begin, there are a few dependencies that must be loaded. These dependencies are extensions to the Python language for deep learning."
      ]
    },
    {
      "cell_type": "code",
      "metadata": {
        "id": "5nh0Tm4Rklty"
      },
      "source": [
        "# For neural networks\n",
        "import torch.nn as nn\n",
        "import torch\n",
        "import torch.nn.functional as F\n",
        "\n",
        "# For arrays\n",
        "import numpy as np\n",
        "\n",
        "# For working with images and creating visualizations\n",
        "import imageio\n",
        "import matplotlib.pyplot as plt\n",
        "%matplotlib inline\n",
        "\n",
        "# For working with files and directories \n",
        "from pathlib import Path\n",
        "\n",
        "# For TensorBoard visualization\n",
        "from torch.utils.tensorboard import SummaryWriter\n",
        "writer = SummaryWriter()"
      ],
      "execution_count": 13,
      "outputs": []
    },
    {
      "cell_type": "markdown",
      "metadata": {
        "id": "nTQLBjTZoONZ"
      },
      "source": [
        "## Problem\n",
        "\n",
        "Let\"s say we have data generated under the function $f(x) = \\sin(x)$. If we turn over the data to a colleague without telling them the data generating procedure, would they be able to determine the relationship? Could linear regression be used to recover the graph? \n",
        "\n",
        "How can we re-construct $f(x)$ if we do not know the relationship? "
      ]
    },
    {
      "cell_type": "code",
      "metadata": {
        "colab": {
          "base_uri": "https://localhost:8080/",
          "height": 265
        },
        "id": "03zRoK0BoOp3",
        "outputId": "1a8b700a-9830-457a-db7d-abcdb80cfd3e"
      },
      "source": [
        "# Construct input and outputs\n",
        "x_input = np.arange(-10, 10, 0.01)\n",
        "true_output_sine = np.sin(x_input)\n",
        "\n",
        "# Add lines through origin\n",
        "plt.axhline(0, color=\"black\", lw=1)\n",
        "plt.axvline(0, color=\"black\", lw=1)\n",
        "\n",
        "# Graph Data\n",
        "plt.plot(x_input, true_output_sine, label = \"Sine function\")\n",
        "\n",
        "# Enforce a x-axis window\n",
        "plt.xlim(-10, 10)\n",
        "\n",
        "# Add a legend\n",
        "plt.legend(loc = 1)\n",
        "\n",
        "# Display graph\n",
        "plt.show()"
      ],
      "execution_count": 14,
      "outputs": [
        {
          "output_type": "display_data",
          "data": {
            "image/png": "[encoded data removed]",
            "text/plain": [
              "<Figure size 432x288 with 1 Axes>"
            ]
          },
          "metadata": {
            "needs_background": "light"
          }
        }
      ]
    },
    {
      "cell_type": "markdown",
      "metadata": {
        "id": "Rs3WiVd4oMUW"
      },
      "source": [
        "## Building a Neural Network"
      ]
    },
    {
      "cell_type": "markdown",
      "metadata": {
        "id": "mC60B8UfoAPS"
      },
      "source": [
        "With the problem framing in-mind, we\"ll construct our first ever neural network using Torch\"s [`nn.Sequential()` container](https://pytorch.org/docs/stable/generated/torch.nn.Sequential.html). \n"
      ]
    },
    {
      "cell_type": "code",
      "metadata": {
        "colab": {
          "base_uri": "https://localhost:8080/"
        },
        "id": "pC3o0AAFk9i4",
        "outputId": "49b9d010-5c62-409b-bc36-ed7865c211ee"
      },
      "source": [
        "from collections import OrderedDict\n",
        "device = torch.device(\"cpu\")\n",
        "if torch.cuda.is_available():\n",
        "    device = torch.device(\"cuda\")\n",
        "\n",
        "network = nn.Sequential(OrderedDict([\n",
        "    (\"input\", nn.Linear(1,256)),\n",
        "    (\"elu1\", torch.nn.ELU()),\n",
        "    (\"hidden_1\", nn.Linear(256,256)),\n",
        "    (\"elu2\", torch.nn.ELU()),\n",
        "    (\"hidden_2\", nn.Linear(256,256)),\n",
        "    (\"elu3\", torch.nn.ELU()),\n",
        "    (\"out\", nn.Linear(256,1))\n",
        "    ]))\n",
        "\n",
        "# Display individual layers\n",
        "for name, param in network.named_parameters():\n",
        "  print(f\"Layer: {name}, Shape: {param.shape}\")"
      ],
      "execution_count": 15,
      "outputs": [
        {
          "output_type": "stream",
          "name": "stdout",
          "text": [
            "Layer: input.weight, Shape: torch.Size([256, 1])\n",
            "Layer: input.bias, Shape: torch.Size([256])\n",
            "Layer: hidden_1.weight, Shape: torch.Size([256, 256])\n",
            "Layer: hidden_1.bias, Shape: torch.Size([256])\n",
            "Layer: hidden_2.weight, Shape: torch.Size([256, 256])\n",
            "Layer: hidden_2.bias, Shape: torch.Size([256])\n",
            "Layer: out.weight, Shape: torch.Size([1, 256])\n",
            "Layer: out.bias, Shape: torch.Size([1])\n"
          ]
        }
      ]
    },
    {
      "cell_type": "markdown",
      "metadata": {
        "id": "HwBrcMFNpn7s"
      },
      "source": [
        "An alternative would be to construct a Python class based off of PyTorch's [`nn.module()`](https://pytorch.org/docs/stable/generated/torch.nn.Module.html). Approaching the problem this way separates the \"initialization\" phase from the \"forward pass\" phase."
      ]
    },
    {
      "cell_type": "code",
      "metadata": {
        "id": "zEDmM0Ndmwx4"
      },
      "source": [
        "class NeuralNetwork(nn.Module):\n",
        "    def __init__(self):\n",
        "        super(NeuralNetwork,self).__init__()\n",
        "        self.input = nn.Linear(1,256)\n",
        "        self.hidden_1 = nn.Linear(256,256)\n",
        "        self.hidden_2 = nn.Linear(256,256)\n",
        "        self.out = nn.Linear(256,1)\n",
        "    \n",
        "    def forward(self,x):\n",
        "        x = self.input(x)\n",
        "        x = F.elu(x)\n",
        "        x = self.hidden_1(x)\n",
        "        x = F.elu(x)\n",
        "        x = self.hidden_2(x)\n",
        "        x = F.elu(x)\n",
        "        x = self.out(x)\n",
        "        return x\n",
        "\n",
        "# Detect if GPU is present\n",
        "device = torch.device(\"cpu\")\n",
        "if torch.cuda.is_available():\n",
        "    device = torch.device(\"cuda\")\n",
        "\n",
        "# Initialize Network\n",
        "network_class = NeuralNetwork()"
      ],
      "execution_count": 16,
      "outputs": []
    },
    {
      "cell_type": "markdown",
      "metadata": {
        "id": "yi9n4YtFp94F"
      },
      "source": [
        "## Helper Functions\n",
        "\n",
        "Let's create three helper functions to learn about the process the network is undergoing.  In particular, we'll create a function to make a progress plot similar to the one in the problem statement, training loss history, and a function to generate training data. "
      ]
    },
    {
      "cell_type": "code",
      "metadata": {
        "id": "XuYgKJaU2FGi"
      },
      "source": [
        "def plot_progress(x_input, y_true, y_network, id, output_path = \"training_plots\"):\n",
        "  # Create a directory if not present\n",
        "  Path(output_path).mkdir(parents=True, exist_ok=True)\n",
        "\n",
        "  # Add lines through origin\n",
        "  plt.axhline(0, color=\"black\", lw=1)\n",
        "  plt.axvline(0, color=\"black\", lw=1)\n",
        "  \n",
        "  # Graph Data\n",
        "  plt.plot(x_input, y_true, label = \"Sine Function\")\n",
        "  plt.plot(x_input, y_network, label = \"Estimated Function\")\n",
        "\n",
        "  plt.title(f\"Epoch: {id}\")\n",
        "\n",
        "  # Enforce a x-axis window\n",
        "  plt.xlim(-10, 10)\n",
        "\n",
        "  # Enforce a y-axis window\n",
        "  plt.ylim(-1.1, 1.1)\n",
        "  \n",
        "  # Add a legend\n",
        "  plt.legend(loc = 1)\n",
        "  \n",
        "  # Display graph\n",
        "  plt.savefig(f\"{output_path}/{id:06d}.png\")\n",
        "\n",
        "  # Clear the plot to avoid costly rebuilds.\n",
        "  plt.clf()\n",
        "\n",
        "  # Avoid returning anything\n",
        "  return None"
      ],
      "execution_count": 17,
      "outputs": []
    },
    {
      "cell_type": "code",
      "metadata": {
        "id": "Y6l3KoeX3Rk6"
      },
      "source": [
        "def training_loss(loss_history):\n",
        "  plt.plot(range(len(loss_history)), loss_history, label = \"Loss\")\n",
        "  plt.show()"
      ],
      "execution_count": 18,
      "outputs": []
    },
    {
      "cell_type": "code",
      "metadata": {
        "id": "xnBD60rduKdl"
      },
      "source": [
        "def training_data(batch_size, device):\n",
        "  # Randomly\n",
        "  nums = np.random.uniform(-10, 10, batch_size)\n",
        "  x = torch.Tensor(nums, device = device)\n",
        "  y = torch.Tensor(np.sin(nums), device = device)\n",
        "  y = y.view(batch_size, -1)\n",
        "  return x, y"
      ],
      "execution_count": 19,
      "outputs": []
    },
    {
      "cell_type": "markdown",
      "metadata": {
        "id": "7J0MCGqM8ZR-"
      },
      "source": [
        "## Training a Network\n",
        "\n"
      ]
    },
    {
      "cell_type": "code",
      "metadata": {
        "colab": {
          "base_uri": "https://localhost:8080/"
        },
        "id": "AwG02TEFnLMk",
        "outputId": "36f9ec17-e699-42c5-fd40-b588041df077"
      },
      "source": [
        "# Detect if GPU is present\n",
        "device = torch.device(\"cpu\")\n",
        "if torch.cuda.is_available():\n",
        "    device = torch.device(\"cuda\")\n",
        "\n",
        "# Write a wrapper function for network training steps\n",
        "def train_sine_network(network, epochs = 2000, device = torch.device(\"cpu\"), gif = False):\n",
        "\n",
        "  # Use the ADAM optimizer\n",
        "  optimizer = torch.optim.Adam(network.parameters(), lr = 3e-4)\n",
        "\n",
        "  # Measure loss using the Mean Squared Error function.\n",
        "  loss_criterion = torch.nn.MSELoss()\n",
        "\n",
        "  # Store a history of loss\n",
        "  loss_history = list()\n",
        "\n",
        "  # Set number of observations to consider\n",
        "  batch_size = 128\n",
        "\n",
        "  # Setup inputs for graphing\n",
        "  x_input = np.arange(-10, 10, 0.01)\n",
        "  # Compute true values\n",
        "  true_value_sine = np.sin(x_input)\n",
        "\n",
        "  # Train the model\n",
        "  for epoch in range(epochs):\n",
        "\n",
        "    # Display progress\n",
        "    if epoch % 250 == 0 and epoch != 0:\n",
        "      print(f\"Epoch: {epoch}, Loss: {loss_history[-1]:.5f}\")\n",
        "    \n",
        "    # Export network state\n",
        "    if gif:\n",
        "      # Compute a prediction\n",
        "      with torch.no_grad():\n",
        "        network_prediction_sine = network(torch.Tensor(x_input).view(-1, 1)).squeeze().numpy()\n",
        "      # Create a progress plot of reconstructing the function\n",
        "      plot_progress(x_input, true_value_sine, network_prediction_sine, id = epoch)\n",
        "\n",
        "    # Train network\n",
        "    x, y = training_data(batch_size, device)\n",
        "    optimizer.zero_grad()\n",
        "    net_output = network(x.view(batch_size,-1))\n",
        "    loss_value = loss_criterion(y, net_output)\n",
        "\n",
        "    # Write \n",
        "    writer.add_scalar(\"Loss/train\", loss_value, epoch)\n",
        "\n",
        "    # Handle backpropagation and training\n",
        "    loss_value.backward()\n",
        "    optimizer.step()\n",
        "\n",
        "    # Save loss value for history\n",
        "    loss_history.append(loss_value.item())\n",
        "  \n",
        "  # Save the trained network weights\n",
        "  torch.save(network.state_dict(), \"sine_network_weights.pt\")\n",
        "\n",
        "  return network, loss_history\n",
        "\n",
        "# Train the network\n",
        "trained_network, loss_history = train_sine_network(network, epochs = 1250, device = device, gif = True)\n",
        "\n",
        "# Ensure we\"ve written everything\n",
        "writer.flush()"
      ],
      "execution_count": null,
      "outputs": [
        {
          "output_type": "stream",
          "name": "stdout",
          "text": [
            "Epoch: 250, Loss: 0.12732\n"
          ]
        }
      ]
    },
    {
      "cell_type": "markdown",
      "metadata": {
        "id": "q3K7PE4J7l0E"
      },
      "source": [
        "## Visualize Training\n",
        "\n",
        "Next, let's aim to visualize the output with our training loss history function."
      ]
    },
    {
      "cell_type": "code",
      "metadata": {
        "id": "XmuygsLX7tu6"
      },
      "source": [
        "training_loss(loss_history)"
      ],
      "execution_count": null,
      "outputs": []
    },
    {
      "cell_type": "markdown",
      "metadata": {
        "id": "LTNvFtHD7t_5"
      },
      "source": [
        "We can also use a more common industry approach with TensorBoard. To that end, we rely on using automagic to load the TensorBoard application into the notebook.\n"
      ]
    },
    {
      "cell_type": "code",
      "metadata": {
        "id": "GKMldZs0tE-_"
      },
      "source": [
        "# Load the TensorBoard notebook extension\n",
        "%load_ext tensorboard"
      ],
      "execution_count": null,
      "outputs": []
    },
    {
      "cell_type": "markdown",
      "metadata": {
        "id": "87aXZXn8C1o7"
      },
      "source": [
        "From here, we need to launch TensorBoard pointed at the `runs` log directory to obtain a similar training plot visualization.\n",
        "\n",
        "**Note:** The `Writer` we setup in the dependency load section at the top of the notebook will output to `./runs` directory by default.\n"
      ]
    },
    {
      "cell_type": "code",
      "metadata": {
        "id": "hH3zyB557kEN"
      },
      "source": [
        "%tensorboard --logdir runs"
      ],
      "execution_count": null,
      "outputs": []
    },
    {
      "cell_type": "markdown",
      "metadata": {
        "id": "lmH-bp_b8gC9"
      },
      "source": [
        "## Creating a gif\n",
        "\n",
        "We can merge together the different training progress graphs to see how well the network performed."
      ]
    },
    {
      "cell_type": "code",
      "metadata": {
        "id": "PzS8fZBBqzZw"
      },
      "source": [
        "def create_gif(training_plot_path):\n",
        "  with imageio.get_writer(\"sine-function-approximation.gif\", mode = \"I\", duration = 1/60) as writer:\n",
        "    for filename in sorted(Path(training_plot_path).glob(\"*.png\"), key = str)[:1000]:\n",
        "      image = imageio.imread(filename)\n",
        "      writer.append_data(image)\n",
        "\n",
        "create_gif(\"training_plots\")"
      ],
      "execution_count": null,
      "outputs": []
    },
    {
      "cell_type": "markdown",
      "metadata": {
        "id": "_c3PHMJuAuy0"
      },
      "source": [
        "The resulting gif is a little large (~30 mb). So, we'll need to reduce the file size with using a trick. Note, we're now in the territory of an explicit dependency on Colab due to the need for system-specific software."
      ]
    },
    {
      "cell_type": "code",
      "metadata": {
        "id": "lJHAY9RFBr6E"
      },
      "source": [
        "# Install a python package\n",
        "!pip install pygifsicle\n",
        "\n",
        "# Install a linux package\n",
        "!apt install gifsicle"
      ],
      "execution_count": null,
      "outputs": []
    },
    {
      "cell_type": "markdown",
      "metadata": {
        "id": "-L5OAtnjCWuF"
      },
      "source": [
        "Once the software is installed, we'll aim to \"optimize\" the GIF."
      ]
    },
    {
      "cell_type": "code",
      "metadata": {
        "id": "-YYB80PpBk7N"
      },
      "source": [
        "from pygifsicle import optimize\n",
        "# Try to reduce the file size\n",
        "optimize(\"sine-function-approximation.gif\")"
      ],
      "execution_count": null,
      "outputs": []
    },
    {
      "cell_type": "markdown",
      "metadata": {
        "id": "7MqBiWYhCcK6"
      },
      "source": [
        "Now, let's visualize it! "
      ]
    },
    {
      "cell_type": "code",
      "metadata": {
        "id": "IAhCvJ3TAxVD"
      },
      "source": [
        "from IPython.display import Image\n",
        "Image(open(\"sine-function-approximation.gif\",\"rb\").read())"
      ],
      "execution_count": null,
      "outputs": []
    }
  ]
}